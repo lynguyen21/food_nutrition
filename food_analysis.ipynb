{
 "cells": [
  {
   "cell_type": "code",
   "execution_count": null,
   "id": "f8bcf7a2",
   "metadata": {},
   "outputs": [],
   "source": []
  },
  {
   "cell_type": "code",
   "execution_count": 20,
   "id": "398a9808",
   "metadata": {},
   "outputs": [],
   "source": [
    "import pandas as pd\n",
    "import numpy as np\n",
    "from sklearn.preprocessing import StandardScaler"
   ]
  },
  {
   "cell_type": "markdown",
   "id": "09932dab",
   "metadata": {},
   "source": [
    "## Dataset Preprocessing"
   ]
  },
  {
   "cell_type": "code",
   "execution_count": 2,
   "id": "33803134",
   "metadata": {},
   "outputs": [],
   "source": [
    "df1 = pd.read_csv(\"FINAL FOOD DATASET/FOOD-DATA-GROUP1.csv\")\n",
    "df2 = pd.read_csv(\"FINAL FOOD DATASET/FOOD-DATA-GROUP2.csv\")\n",
    "df3 = pd.read_csv(\"FINAL FOOD DATASET/FOOD-DATA-GROUP3.csv\")\n",
    "df4 = pd.read_csv(\"FINAL FOOD DATASET/FOOD-DATA-GROUP4.csv\")\n",
    "df5 = pd.read_csv(\"FINAL FOOD DATASET/FOOD-DATA-GROUP5.csv\")\n",
    "\n",
    "df = pd.concat([df1, df2, df3, df4], ignore_index=True)"
   ]
  },
  {
   "cell_type": "code",
   "execution_count": 3,
   "id": "adb963bc",
   "metadata": {},
   "outputs": [
    {
     "name": "stdout",
     "output_type": "stream",
     "text": [
      "(1673, 37)\n"
     ]
    }
   ],
   "source": [
    "print(df.shape)"
   ]
  },
  {
   "cell_type": "code",
   "execution_count": 4,
   "id": "605b8daa",
   "metadata": {},
   "outputs": [
    {
     "data": {
      "text/html": [
       "<div>\n",
       "<style scoped>\n",
       "    .dataframe tbody tr th:only-of-type {\n",
       "        vertical-align: middle;\n",
       "    }\n",
       "\n",
       "    .dataframe tbody tr th {\n",
       "        vertical-align: top;\n",
       "    }\n",
       "\n",
       "    .dataframe thead th {\n",
       "        text-align: right;\n",
       "    }\n",
       "</style>\n",
       "<table border=\"1\" class=\"dataframe\">\n",
       "  <thead>\n",
       "    <tr style=\"text-align: right;\">\n",
       "      <th></th>\n",
       "      <th>Unnamed: 0.1</th>\n",
       "      <th>Unnamed: 0</th>\n",
       "      <th>food</th>\n",
       "      <th>Caloric Value</th>\n",
       "      <th>Fat</th>\n",
       "      <th>Saturated Fats</th>\n",
       "      <th>Monounsaturated Fats</th>\n",
       "      <th>Polyunsaturated Fats</th>\n",
       "      <th>Carbohydrates</th>\n",
       "      <th>Sugars</th>\n",
       "      <th>...</th>\n",
       "      <th>Calcium</th>\n",
       "      <th>Copper</th>\n",
       "      <th>Iron</th>\n",
       "      <th>Magnesium</th>\n",
       "      <th>Manganese</th>\n",
       "      <th>Phosphorus</th>\n",
       "      <th>Potassium</th>\n",
       "      <th>Selenium</th>\n",
       "      <th>Zinc</th>\n",
       "      <th>Nutrition Density</th>\n",
       "    </tr>\n",
       "  </thead>\n",
       "  <tbody>\n",
       "    <tr>\n",
       "      <th>0</th>\n",
       "      <td>0</td>\n",
       "      <td>0</td>\n",
       "      <td>cream cheese</td>\n",
       "      <td>51</td>\n",
       "      <td>5.0</td>\n",
       "      <td>2.9</td>\n",
       "      <td>1.3</td>\n",
       "      <td>0.200</td>\n",
       "      <td>0.8</td>\n",
       "      <td>0.500</td>\n",
       "      <td>...</td>\n",
       "      <td>0.008</td>\n",
       "      <td>14.100</td>\n",
       "      <td>0.082</td>\n",
       "      <td>0.027</td>\n",
       "      <td>1.300</td>\n",
       "      <td>0.091</td>\n",
       "      <td>15.5</td>\n",
       "      <td>19.100</td>\n",
       "      <td>0.039</td>\n",
       "      <td>7.070</td>\n",
       "    </tr>\n",
       "    <tr>\n",
       "      <th>1</th>\n",
       "      <td>1</td>\n",
       "      <td>1</td>\n",
       "      <td>neufchatel cheese</td>\n",
       "      <td>215</td>\n",
       "      <td>19.4</td>\n",
       "      <td>10.9</td>\n",
       "      <td>4.9</td>\n",
       "      <td>0.800</td>\n",
       "      <td>3.1</td>\n",
       "      <td>2.700</td>\n",
       "      <td>...</td>\n",
       "      <td>99.500</td>\n",
       "      <td>0.034</td>\n",
       "      <td>0.100</td>\n",
       "      <td>8.500</td>\n",
       "      <td>0.088</td>\n",
       "      <td>117.300</td>\n",
       "      <td>129.2</td>\n",
       "      <td>0.054</td>\n",
       "      <td>0.700</td>\n",
       "      <td>130.100</td>\n",
       "    </tr>\n",
       "    <tr>\n",
       "      <th>2</th>\n",
       "      <td>2</td>\n",
       "      <td>2</td>\n",
       "      <td>requeijao cremoso light catupiry</td>\n",
       "      <td>49</td>\n",
       "      <td>3.6</td>\n",
       "      <td>2.3</td>\n",
       "      <td>0.9</td>\n",
       "      <td>0.000</td>\n",
       "      <td>0.9</td>\n",
       "      <td>3.400</td>\n",
       "      <td>...</td>\n",
       "      <td>0.000</td>\n",
       "      <td>0.000</td>\n",
       "      <td>0.000</td>\n",
       "      <td>0.000</td>\n",
       "      <td>0.000</td>\n",
       "      <td>0.000</td>\n",
       "      <td>0.0</td>\n",
       "      <td>0.000</td>\n",
       "      <td>0.000</td>\n",
       "      <td>5.400</td>\n",
       "    </tr>\n",
       "    <tr>\n",
       "      <th>3</th>\n",
       "      <td>3</td>\n",
       "      <td>3</td>\n",
       "      <td>ricotta cheese</td>\n",
       "      <td>30</td>\n",
       "      <td>2.0</td>\n",
       "      <td>1.3</td>\n",
       "      <td>0.5</td>\n",
       "      <td>0.002</td>\n",
       "      <td>1.5</td>\n",
       "      <td>0.091</td>\n",
       "      <td>...</td>\n",
       "      <td>0.097</td>\n",
       "      <td>41.200</td>\n",
       "      <td>0.097</td>\n",
       "      <td>0.096</td>\n",
       "      <td>4.000</td>\n",
       "      <td>0.024</td>\n",
       "      <td>30.8</td>\n",
       "      <td>43.800</td>\n",
       "      <td>0.035</td>\n",
       "      <td>5.196</td>\n",
       "    </tr>\n",
       "    <tr>\n",
       "      <th>4</th>\n",
       "      <td>4</td>\n",
       "      <td>4</td>\n",
       "      <td>cream cheese low fat</td>\n",
       "      <td>30</td>\n",
       "      <td>2.3</td>\n",
       "      <td>1.4</td>\n",
       "      <td>0.6</td>\n",
       "      <td>0.042</td>\n",
       "      <td>1.2</td>\n",
       "      <td>0.900</td>\n",
       "      <td>...</td>\n",
       "      <td>22.200</td>\n",
       "      <td>0.072</td>\n",
       "      <td>0.008</td>\n",
       "      <td>1.200</td>\n",
       "      <td>0.098</td>\n",
       "      <td>22.800</td>\n",
       "      <td>37.1</td>\n",
       "      <td>0.034</td>\n",
       "      <td>0.053</td>\n",
       "      <td>27.007</td>\n",
       "    </tr>\n",
       "  </tbody>\n",
       "</table>\n",
       "<p>5 rows × 37 columns</p>\n",
       "</div>"
      ],
      "text/plain": [
       "   Unnamed: 0.1  Unnamed: 0                              food  Caloric Value  \\\n",
       "0             0           0                      cream cheese             51   \n",
       "1             1           1                 neufchatel cheese            215   \n",
       "2             2           2  requeijao cremoso light catupiry             49   \n",
       "3             3           3                    ricotta cheese             30   \n",
       "4             4           4              cream cheese low fat             30   \n",
       "\n",
       "    Fat  Saturated Fats  Monounsaturated Fats  Polyunsaturated Fats  \\\n",
       "0   5.0             2.9                   1.3                 0.200   \n",
       "1  19.4            10.9                   4.9                 0.800   \n",
       "2   3.6             2.3                   0.9                 0.000   \n",
       "3   2.0             1.3                   0.5                 0.002   \n",
       "4   2.3             1.4                   0.6                 0.042   \n",
       "\n",
       "   Carbohydrates  Sugars  ...  Calcium  Copper   Iron  Magnesium  Manganese  \\\n",
       "0            0.8   0.500  ...    0.008  14.100  0.082      0.027      1.300   \n",
       "1            3.1   2.700  ...   99.500   0.034  0.100      8.500      0.088   \n",
       "2            0.9   3.400  ...    0.000   0.000  0.000      0.000      0.000   \n",
       "3            1.5   0.091  ...    0.097  41.200  0.097      0.096      4.000   \n",
       "4            1.2   0.900  ...   22.200   0.072  0.008      1.200      0.098   \n",
       "\n",
       "   Phosphorus  Potassium  Selenium   Zinc  Nutrition Density  \n",
       "0       0.091       15.5    19.100  0.039              7.070  \n",
       "1     117.300      129.2     0.054  0.700            130.100  \n",
       "2       0.000        0.0     0.000  0.000              5.400  \n",
       "3       0.024       30.8    43.800  0.035              5.196  \n",
       "4      22.800       37.1     0.034  0.053             27.007  \n",
       "\n",
       "[5 rows x 37 columns]"
      ]
     },
     "execution_count": 4,
     "metadata": {},
     "output_type": "execute_result"
    }
   ],
   "source": [
    "df.head()"
   ]
  },
  {
   "cell_type": "code",
   "execution_count": 9,
   "id": "f3a997e7",
   "metadata": {},
   "outputs": [
    {
     "name": "stdout",
     "output_type": "stream",
     "text": [
      "Unnamed: 0.1              int64\n",
      "Unnamed: 0                int64\n",
      "food                     object\n",
      "Caloric Value             int64\n",
      "Fat                     float64\n",
      "Saturated Fats          float64\n",
      "Monounsaturated Fats    float64\n",
      "Polyunsaturated Fats    float64\n",
      "Carbohydrates           float64\n",
      "Sugars                  float64\n",
      "Protein                 float64\n",
      "Dietary Fiber           float64\n",
      "Cholesterol             float64\n",
      "Sodium                  float64\n",
      "Water                   float64\n",
      "Vitamin A               float64\n",
      "Vitamin B1              float64\n",
      "Vitamin B11             float64\n",
      "Vitamin B12             float64\n",
      "Vitamin B2              float64\n",
      "Vitamin B3              float64\n",
      "Vitamin B5              float64\n",
      "Vitamin B6              float64\n",
      "Vitamin C               float64\n",
      "Vitamin D               float64\n",
      "Vitamin E               float64\n",
      "Vitamin K               float64\n",
      "Calcium                 float64\n",
      "Copper                  float64\n",
      "Iron                    float64\n",
      "Magnesium               float64\n",
      "Manganese               float64\n",
      "Phosphorus              float64\n",
      "Potassium               float64\n",
      "Selenium                float64\n",
      "Zinc                    float64\n",
      "Nutrition Density       float64\n",
      "dtype: object\n"
     ]
    }
   ],
   "source": [
    "column_types = df.dtypes\n",
    "print(column_types)"
   ]
  },
  {
   "cell_type": "code",
   "execution_count": 10,
   "id": "e9a8d78e",
   "metadata": {},
   "outputs": [
    {
     "name": "stdout",
     "output_type": "stream",
     "text": [
      "food                    0\n",
      "Caloric Value           0\n",
      "Fat                     0\n",
      "Saturated Fats          0\n",
      "Monounsaturated Fats    0\n",
      "Polyunsaturated Fats    0\n",
      "Carbohydrates           0\n",
      "Sugars                  0\n",
      "Protein                 0\n",
      "Dietary Fiber           0\n",
      "Cholesterol             0\n",
      "Sodium                  0\n",
      "Water                   0\n",
      "Vitamin A               0\n",
      "Vitamin B1              0\n",
      "Vitamin B11             0\n",
      "Vitamin B12             0\n",
      "Vitamin B2              0\n",
      "Vitamin B3              0\n",
      "Vitamin B5              0\n",
      "Vitamin B6              0\n",
      "Vitamin C               0\n",
      "Vitamin D               0\n",
      "Vitamin E               0\n",
      "Vitamin K               0\n",
      "Calcium                 0\n",
      "Copper                  0\n",
      "Iron                    0\n",
      "Magnesium               0\n",
      "Manganese               0\n",
      "Phosphorus              0\n",
      "Potassium               0\n",
      "Selenium                0\n",
      "Zinc                    0\n",
      "Nutrition Density       0\n",
      "dtype: int64\n"
     ]
    },
    {
     "name": "stderr",
     "output_type": "stream",
     "text": [
      "/var/folders/bd/6ymw4wqd5pg1bvf1ygr5my6m0000gn/T/ipykernel_42497/1891039491.py:8: SettingWithCopyWarning: \n",
      "A value is trying to be set on a copy of a slice from a DataFrame\n",
      "\n",
      "See the caveats in the documentation: https://pandas.pydata.org/pandas-docs/stable/user_guide/indexing.html#returning-a-view-versus-a-copy\n",
      "  df.fillna(0, inplace=True)\n",
      "/var/folders/bd/6ymw4wqd5pg1bvf1ygr5my6m0000gn/T/ipykernel_42497/1891039491.py:14: SettingWithCopyWarning: \n",
      "A value is trying to be set on a copy of a slice from a DataFrame.\n",
      "Try using .loc[row_indexer,col_indexer] = value instead\n",
      "\n",
      "See the caveats in the documentation: https://pandas.pydata.org/pandas-docs/stable/user_guide/indexing.html#returning-a-view-versus-a-copy\n",
      "  df[nutritional_columns] = df[nutritional_columns].apply(pd.to_numeric)\n"
     ]
    }
   ],
   "source": [
    "# Remove unnamed columns\n",
    "df = df.loc[:, ~df.columns.str.contains('^Unnamed')]\n",
    "\n",
    "# Check for missing values\n",
    "print(df.isnull().sum())\n",
    "\n",
    "# Fill or drop missing values (if any)\n",
    "df.fillna(0, inplace=True)\n",
    "\n",
    "# Convert relevant columns to numeric if needed\n",
    "nutritional_columns = ['Caloric Value', 'Fat', 'Saturated Fats', 'Sugars', \n",
    "                       'Sodium', 'Protein', 'Dietary Fiber']\n",
    "\n",
    "df[nutritional_columns] = df[nutritional_columns].apply(pd.to_numeric)"
   ]
  },
  {
   "cell_type": "markdown",
   "id": "7a110674",
   "metadata": {},
   "source": [
    "## Date Exploration"
   ]
  },
  {
   "cell_type": "code",
   "execution_count": 11,
   "id": "e66b882c",
   "metadata": {},
   "outputs": [
    {
     "name": "stdout",
     "output_type": "stream",
     "text": [
      "       Caloric Value          Fat  Saturated Fats       Sugars       Sodium  \\\n",
      "count    1673.000000  1673.000000     1673.000000  1673.000000  1673.000000   \n",
      "mean      266.614465    12.154604        4.829194     5.044491     0.302282   \n",
      "std       430.489571    31.968318       22.099630    15.062886     0.535618   \n",
      "min         0.000000     0.000000        0.000000     0.000000     0.000000   \n",
      "25%        62.000000     0.400000        0.078000     0.000000     0.037000   \n",
      "50%       150.000000     3.200000        0.800000     0.000000     0.088000   \n",
      "75%       328.000000    11.600000        3.800000     3.400000     0.300000   \n",
      "max      6077.000000   550.700000      672.000000   291.500000     7.000000   \n",
      "\n",
      "           Protein  Dietary Fiber  \n",
      "count  1673.000000    1673.000000  \n",
      "mean     17.664874       2.304008  \n",
      "std      37.611615       6.042151  \n",
      "min       0.000000       0.000000  \n",
      "25%       1.200000       0.000000  \n",
      "50%       5.600000       0.000000  \n",
      "75%      20.000000       1.800000  \n",
      "max     560.300000      76.500000  \n"
     ]
    }
   ],
   "source": [
    "# Summary of key nutritional components\n",
    "print(df[nutritional_columns].describe())"
   ]
  },
  {
   "cell_type": "markdown",
   "id": "c838b31b",
   "metadata": {},
   "source": [
    "### Correlation\n",
    "\n",
    "Check the correlation between major nutritional metrics like calories, fats, and sugars."
   ]
  },
  {
   "cell_type": "code",
   "execution_count": 13,
   "id": "31e709a7",
   "metadata": {},
   "outputs": [
    {
     "name": "stderr",
     "output_type": "stream",
     "text": [
      "/usr/local/lib/python3.9/site-packages/scipy/__init__.py:146: UserWarning: A NumPy version >=1.17.3 and <1.25.0 is required for this version of SciPy (detected version 1.26.4\n",
      "  warnings.warn(f\"A NumPy version >={np_minversion} and <{np_maxversion}\"\n"
     ]
    },
    {
     "data": {
      "image/png": "[encoded data removed]",
      "text/plain": [
       "<Figure size 720x432 with 2 Axes>"
      ]
     },
     "metadata": {
      "needs_background": "light"
     },
     "output_type": "display_data"
    }
   ],
   "source": [
    "import seaborn as sns\n",
    "import matplotlib.pyplot as plt\n",
    "\n",
    "# Plot a correlation heatmap\n",
    "plt.figure(figsize=(10, 6))\n",
    "corr_matrix = df[nutritional_columns].corr()\n",
    "sns.heatmap(corr_matrix, annot=True, cmap='coolwarm')\n",
    "plt.title('Correlation Between Nutritional Components')\n",
    "plt.show()"
   ]
  },
  {
   "cell_type": "markdown",
   "id": "0841a4f3",
   "metadata": {},
   "source": [
    "### Defining Healthy and Unhealthy Items"
   ]
  },
  {
   "cell_type": "code",
   "execution_count": 14,
   "id": "08c510e9",
   "metadata": {},
   "outputs": [],
   "source": [
    "healthy_items = df[(df['Caloric Value'] < 250) & \n",
    "                   (df['Saturated Fats'] < 3) &\n",
    "                   (df['Sugars'] < 5) &\n",
    "                   (df['Protein'] > 5) &\n",
    "                   (df['Dietary Fiber'] > 2)]\n",
    "\n",
    "unhealthy_items = df[(df['Caloric Value'] > 500) | \n",
    "                     (df['Saturated Fats'] > 10) |\n",
    "                     (df['Sugars'] > 20) |\n",
    "                     (df['Sodium'] > 1000)]"
   ]
  },
  {
   "cell_type": "markdown",
   "id": "ef54b56c",
   "metadata": {},
   "source": [
    "## Visualization"
   ]
  },
  {
   "cell_type": "code",
   "execution_count": 15,
   "id": "ac78e4e8",
   "metadata": {},
   "outputs": [
    {
     "data": {
      "image/png": "[encoded data removed]",
      "text/plain": [
       "<Figure size 720x432 with 1 Axes>"
      ]
     },
     "metadata": {
      "needs_background": "light"
     },
     "output_type": "display_data"
    }
   ],
   "source": [
    "# Visualize caloric distribution\n",
    "plt.figure(figsize=(10, 6))\n",
    "sns.histplot(df['Caloric Value'], bins=20, kde=True)\n",
    "plt.title('Distribution of Caloric Values')\n",
    "plt.xlabel('Calories (kcal per 100g)')\n",
    "plt.ylabel('Frequency')\n",
    "plt.show()"
   ]
  },
  {
   "cell_type": "markdown",
   "id": "b327a8b6",
   "metadata": {},
   "source": [
    "### Nutrient Comparison Across Food Items\n"
   ]
  },
  {
   "cell_type": "code",
   "execution_count": 16,
   "id": "a73f7142",
   "metadata": {},
   "outputs": [
    {
     "data": {
      "image/png": "[encoded data removed]",
      "text/plain": [
       "<Figure size 720x432 with 1 Axes>"
      ]
     },
     "metadata": {
      "needs_background": "light"
     },
     "output_type": "display_data"
    }
   ],
   "source": [
    "# Compare healthy and unhealthy items in terms of key nutrients\n",
    "plt.figure(figsize=(10, 6))\n",
    "df_melted = pd.melt(df, id_vars='food', value_vars=nutritional_columns)\n",
    "sns.boxplot(x='variable', y='value', data=df_melted)\n",
    "plt.title('Nutrient Comparison Across Food Items')\n",
    "plt.ylabel('Value (per 100g)')\n",
    "plt.show()"
   ]
  },
  {
   "cell_type": "markdown",
   "id": "a3cbf2ca",
   "metadata": {},
   "source": [
    "# Recomendation of Healthy and Unhealthy Food"
   ]
  },
  {
   "cell_type": "code",
   "execution_count": 17,
   "id": "4d87cdb5",
   "metadata": {},
   "outputs": [
    {
     "name": "stdout",
     "output_type": "stream",
     "text": [
      "Healthy Food Items:\n",
      "                         food  Caloric Value  Saturated Fats  Sugars  Protein  \\\n",
      "1127           cowpeas cooked             81           0.037     2.3      5.4   \n",
      "782           oat bran cooked             88           0.400     0.0      7.0   \n",
      "253                 crab soup             95           0.200     0.0     10.4   \n",
      "219      bean with bacon soup            106           1.000     0.6      5.5   \n",
      "805                wheat germ            112           0.500     0.0      7.2   \n",
      "...                       ...            ...             ...     ...      ...   \n",
      "1093       pinto beans cooked            245           0.200     0.6     15.4   \n",
      "796              spelt cooked            246           0.000     0.0     10.7   \n",
      "842   white rice pasta cooked            246           1.100     0.0      5.1   \n",
      "155        vegetarian fillets            247           2.400     0.7     19.6   \n",
      "1108       white beans cooked            249           0.200     0.6     17.4   \n",
      "\n",
      "      Dietary Fiber  Sodium  \n",
      "1127            4.6   0.037  \n",
      "782             5.7   0.082  \n",
      "253             2.4   0.600  \n",
      "219             9.0   0.900  \n",
      "805             4.1   0.037  \n",
      "...             ...     ...  \n",
      "1093           15.4   0.085  \n",
      "796             7.6   0.041  \n",
      "842             5.1   1.100  \n",
      "155             5.2   0.400  \n",
      "1108           11.3   0.045  \n",
      "\n",
      "[61 rows x 7 columns]\n"
     ]
    }
   ],
   "source": [
    "print(\"Healthy Food Items:\")\n",
    "print(healthy_items[['food', 'Caloric Value', 'Saturated Fats', \n",
    "                     'Sugars', 'Protein', 'Dietary Fiber', \n",
    "                     'Sodium']].sort_values('Caloric Value'))"
   ]
  },
  {
   "cell_type": "code",
   "execution_count": 18,
   "id": "f7259046",
   "metadata": {},
   "outputs": [
    {
     "name": "stdout",
     "output_type": "stream",
     "text": [
      "Unhealthy Food Items to Avoid:\n",
      "                                         food  Caloric Value  Saturated Fats  \\\n",
      "1437                           goose meat raw           6077         160.200   \n",
      "1374                      pork arm picnic raw           5298         113.600   \n",
      "1376                   pork arm picnic cooked           5292         109.300   \n",
      "1430                            duck meat raw           5123         167.600   \n",
      "1372                             pork backfat           3683         146.100   \n",
      "...                                       ...            ...             ...   \n",
      "1559              ice tea lemon flavor nestle             88           0.000   \n",
      "1565                            pink lemonade             86           0.079   \n",
      "975                             papaya canned             80           0.100   \n",
      "1456  yoplait light strawberry yogurt yoplait             79          14.100   \n",
      "1663                nesfit diet cereal nestle             75          14.500   \n",
      "\n",
      "      Sugars  Sodium  \n",
      "1437     0.0   1.200  \n",
      "1374     0.0   2.300  \n",
      "1376     0.0   2.200  \n",
      "1430     0.0   0.800  \n",
      "1372     0.0   0.064  \n",
      "...      ...     ...  \n",
      "1559    22.3   0.063  \n",
      "1565    20.6   0.010  \n",
      "975     20.4   0.075  \n",
      "1456     0.0   0.000  \n",
      "1663     0.0   0.000  \n",
      "\n",
      "[389 rows x 5 columns]\n"
     ]
    }
   ],
   "source": [
    "print(\"Unhealthy Food Items to Avoid:\")\n",
    "print(unhealthy_items[['food', 'Caloric Value', 'Saturated Fats', \n",
    "                       'Sugars', 'Sodium']].sort_values('Caloric Value', ascending=False))\n"
   ]
  },
  {
   "cell_type": "code",
   "execution_count": null,
   "id": "b280b90a",
   "metadata": {},
   "outputs": [],
   "source": []
  }
 ],
 "metadata": {
  "kernelspec": {
   "display_name": "Python 3 (ipykernel)",
   "language": "python",
   "name": "python3"
  },
  "language_info": {
   "codemirror_mode": {
    "name": "ipython",
    "version": 3
   },
   "file_extension": ".py",
   "mimetype": "text/x-python",
   "name": "python",
   "nbconvert_exporter": "python",
   "pygments_lexer": "ipython3",
   "version": "3.9.10"
  }
 },
 "nbformat": 4,
 "nbformat_minor": 5
}
